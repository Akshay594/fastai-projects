{
  "nbformat": 4,
  "nbformat_minor": 0,
  "metadata": {
    "colab": {
      "name": "Midterm_homework.ipynb",
      "provenance": [],
      "collapsed_sections": [],
      "include_colab_link": true
    },
    "kernelspec": {
      "name": "python3",
      "display_name": "Python 3"
    },
    "accelerator": "GPU"
  },
  "cells": [
    {
      "cell_type": "markdown",
      "metadata": {
        "id": "view-in-github",
        "colab_type": "text"
      },
      "source": [
        "<a href=\"https://colab.research.google.com/github/Akshay594/fastai-projects/blob/master/Midterm_homework.ipynb\" target=\"_parent\"><img src=\"https://colab.research.google.com/assets/colab-badge.svg\" alt=\"Open In Colab\"/></a>"
      ]
    },
    {
      "cell_type": "markdown",
      "metadata": {
        "id": "4uRXEqrUmax0",
        "colab_type": "text"
      },
      "source": [
        "# TogetherML `fastai` midterm - First Round - October 2019\n",
        "\n",
        "This midterm consists of some multiple choice questions, some full answer questions and a final coding question that uses what you know of `fastai` and PyTorch from the course to build a very simple sentiment classifier using Logistic Regression.\n",
        "\n",
        "* For the full answer questions, there will be cells for you to edit so you can place your answer accordingly.\n",
        "* For the multiple choice questions, for the cell where you answer the question, simply write in the number associated with the answer you are choosing.  No justification of why you chose that answer is necessary.\n",
        "* For the final coding question, simply edit the corresponding functions with your answer, then run the training cells and `unittest` cells until your cells finally pass the tests.  This will ensure that your answers are correct.\n",
        "\n",
        "The due date for this is November 4th, 2019 at 11:59 p.m. PST (GMT-8).  \n",
        "\n",
        "To submit this midterm, please send me (`@rayryeng`) an individual message on Discord with your answers to this midterm as a separate notebook.\n",
        "\n",
        "Good luck!"
      ]
    },
    {
      "cell_type": "markdown",
      "metadata": {
        "id": "bSOSEHXWm_6l",
        "colab_type": "text"
      },
      "source": [
        "## Question #1\n",
        "\n",
        "Describe in your own words what \"transfer learning\" means."
      ]
    },
    {
      "cell_type": "markdown",
      "metadata": {
        "id": "ZZHgnKtMnvy7",
        "colab_type": "text"
      },
      "source": [
        "Answer: Transfer learning essentially is using pretrained models for training the new data and make predictions on the new data. In layman terms, it's like a father is passing learnings of his entire life to his offspring."
      ]
    },
    {
      "cell_type": "markdown",
      "metadata": {
        "id": "-fX_jIYhn3Qo",
        "colab_type": "text"
      },
      "source": [
        "## Question #2\n",
        "\n",
        "Describe in your own words what it means for a model to \"overfit\" and provide two suggestions on how to combat overfitting."
      ]
    },
    {
      "cell_type": "markdown",
      "metadata": {
        "id": "kJTCGE9VoHHs",
        "colab_type": "text"
      },
      "source": [
        "Overfitting occurs when a model's training loss is way lesser than it's validation loss. In layman terms, Suppose you have ripped by a taxi driver in Bombay and now you are saying that every taxi driver in Bombay is a fraud based upon your one negative encounter.\n",
        "\n",
        "\n",
        "Two Suggestions for dealing with Overfitting:\n",
        "\n",
        "1. Regularization: It helps us in penalizing the higher weights in the feature matrix, which eventually leads to less biased data. Since overfitting occurs when the variance in the weights are very high. \n",
        "\n",
        "2. Training on holdout data: Suppose you have split the data into `k` folds, now what you can use `k-1` for training the model and `1` fold as a holdout data. This allows you to keep your holdout set as a truly unseen dataset for selecting your final model.\n",
        "\n",
        "#### honorable mentions:\n",
        "\n",
        "*   Using `Dropout` when using Neural Network\n",
        "*   Removing Features\n",
        "*   Collect more data\n"
      ]
    },
    {
      "cell_type": "markdown",
      "metadata": {
        "id": "c1ODoIMPoT79",
        "colab_type": "text"
      },
      "source": [
        "## Question #3\n",
        "\n",
        "What does it mean when a network is frozen in `fastai`.  What about unfrozen?"
      ]
    },
    {
      "cell_type": "markdown",
      "metadata": {
        "colab_type": "text",
        "id": "jKHQ0jF5pBmL"
      },
      "source": [
        "**Freezing**: When we don't want to train particular layers of a neural network. Because when we are `freezing` the layers you are essentially saying don't do backpropagation in those frozen layers, this process freezes only randomly generated layers.\n",
        "\n",
        "\n",
        "**Unfreezing**: When our model is ready after freezing phase then we can chain the entire network and train it with the help of concept called *Discriminative Learning Rates.*\n"
      ]
    },
    {
      "cell_type": "markdown",
      "metadata": {
        "id": "5xJaVSRUpC3l",
        "colab_type": "text"
      },
      "source": [
        "## Question #4\n",
        "\n",
        "When using `lr_find` on your model, how do you decide what the best learning rate is when frozen?  What about when the network is unfrozen?"
      ]
    },
    {
      "cell_type": "markdown",
      "metadata": {
        "colab_type": "text",
        "id": "UKJeojNKpnmw"
      },
      "source": [
        "Finding the learning rate is a crucial step since this a `speed` for the model to train on the fed data. We should go for a learning rate when training loss is lowest or steepest if you are seeing learning rate on a graph.\n",
        "\n",
        "When it comes to choosing the learning rate for an unfrozen layer we have to consider the stage where it was frozen also because those layers won't be needing much training then the newly added layers. That is why we use *Discriminative Learning Rates*. It essentially means, **training the network on two learning rates**."
      ]
    },
    {
      "cell_type": "markdown",
      "metadata": {
        "id": "DL8bNxJWppHn",
        "colab_type": "text"
      },
      "source": [
        "## Question #5\n",
        "\n",
        "When putting your model to production, why is it not a good idea to use GPUs when predicting the class of your input image?"
      ]
    },
    {
      "cell_type": "markdown",
      "metadata": {
        "colab_type": "text",
        "id": "fGesxdFPqO1x"
      },
      "source": [
        "It will be hard to scale compared to a  CPU inference. It does not make any sense either if you don't have good traffic on your website and CPU inference will be much cheaper compared to GPU inference."
      ]
    },
    {
      "cell_type": "markdown",
      "metadata": {
        "colab_type": "text",
        "id": "DGlEu9nSqPYD"
      },
      "source": [
        "## Question #6\n",
        "\n",
        "Explains what happens in your model training when the learning rate is too high.  What about when it's too low?"
      ]
    },
    {
      "cell_type": "markdown",
      "metadata": {
        "colab_type": "text",
        "id": "ltcvVg6DqdyB"
      },
      "source": [
        "When the learning rate is too high your model is highly vulnerable for skipping the global optimum value.\n",
        "\n",
        "When it's too low it may even fail to converge for global optimum value, it will be like a snail is trying to climb down from a mountain."
      ]
    },
    {
      "cell_type": "markdown",
      "metadata": {
        "colab_type": "text",
        "id": "B_m31XPEqeES"
      },
      "source": [
        "## Question #7\n",
        "\n",
        "What is the difference between semantic segmentation and instance segmentation?"
      ]
    },
    {
      "cell_type": "markdown",
      "metadata": {
        "colab_type": "text",
        "id": "GXeafFQ3rKcC"
      },
      "source": [
        "**Semantic Segmentation** : It is a technique which detetcts each pixel from the object category given that all labels are available for the model to train on.\n",
        "\n",
        "**Instance Segmentation** : same as Semantic Segmentation, but dives a bit deeper, it identifies , for each pixel, the object instance it belongs to."
      ]
    },
    {
      "cell_type": "markdown",
      "metadata": {
        "colab_type": "text",
        "id": "R_MRDxeErLZN"
      },
      "source": [
        "## Question #8\n",
        "\n",
        "Running training for a very long time or a very large number of epochs is usually a good thing for a deep neural network\n",
        "\n",
        "1. True\n",
        "2. False"
      ]
    },
    {
      "cell_type": "markdown",
      "metadata": {
        "id": "CDjeCerRJCab",
        "colab_type": "text"
      },
      "source": [
        "False\n",
        "\n",
        "Reason: If we have *enough data* then we may train our network for longer period of time otherwise it will lead to overfitting. "
      ]
    },
    {
      "cell_type": "markdown",
      "metadata": {
        "id": "VpXN7EMGJjqx",
        "colab_type": "text"
      },
      "source": [
        "## Question #9\n",
        "When is it a good idea to train in mixed-precision mode (i.e. 16-bit instead of 32-bit)?"
      ]
    },
    {
      "cell_type": "markdown",
      "metadata": {
        "colab_type": "text",
        "id": "siSGNdQMJtwY"
      },
      "source": [
        "When running out of memory a lot we can use Mixed Preicision. It's doing calculations on 16 bit precision instead of 32 bit."
      ]
    },
    {
      "cell_type": "markdown",
      "metadata": {
        "id": "OmkUAe6KKwPI",
        "colab_type": "text"
      },
      "source": [
        "## Question #10\n",
        "\n",
        "Why do we prefer using ReLU activation functions for deep networks over other conventional ones, such as sigmoid or tanh?"
      ]
    },
    {
      "cell_type": "markdown",
      "metadata": {
        "colab_type": "text",
        "id": "pXOBiRjqK4X_"
      },
      "source": [
        "`ReLU` squashes down the negative weights whihch means if a function outputs a positive value it's going to give us directly else it will output a zero. It makes it quick to evaluate and if the neuron (input) is not dead, then updates are fairly easy on the weight matrix. That is why it never saturates since it's gradient is always 1.\n",
        "\n",
        "Compare this to sigmoid or tanh, both of which will saturate, if the weights are in higer variance or in low then gradient will change quickly which sometimes can become quick or slow."
      ]
    },
    {
      "cell_type": "markdown",
      "metadata": {
        "id": "t69OX_qSLyOT",
        "colab_type": "text"
      },
      "source": [
        "## Question #11\n",
        "\n",
        "In your own words, explain what a Dropout layer is and what specifically does it mean when the dropout rate is 0.2."
      ]
    },
    {
      "cell_type": "markdown",
      "metadata": {
        "colab_type": "text",
        "id": "sFsAYBZaL8Vj"
      },
      "source": [
        "We remove `randomly` some activations from the network, it's like regularization but instead of penalizing the weights we penalize `activations` with some percentage value.\n",
        "\n",
        "When we are saying dropout rate is 0.2 then we are saying we need to ignore or drop next 20% of activation layer in the network.\n",
        "\n",
        "Let's say we have 5 nodes in our neural network then by putting `dropout=0.2` we are asking for one in 5 inputs will be randomly excluded from each update cycle."
      ]
    },
    {
      "cell_type": "markdown",
      "metadata": {
        "colab_type": "text",
        "id": "3vtFWQnBL-Jv"
      },
      "source": [
        "## Question #12\n",
        "\n",
        "In your own words, explain what weight decay does to a model. What if it's too high? Too low?\n"
      ]
    },
    {
      "cell_type": "markdown",
      "metadata": {
        "id": "VDV11bmzOkoH",
        "colab_type": "text"
      },
      "source": [
        "When the loss function add to it the sum of the squares of parameters multiplied by some number `wd`, where `wd` is **Weight Decay**. If the value of `wd` is too high then it will penalize the parameters too much which will lead to **Underfitting** and if it is too low then it will lead to **Overfitting**."
      ]
    },
    {
      "cell_type": "markdown",
      "metadata": {
        "colab_type": "text",
        "id": "c94LTn_VK46V"
      },
      "source": [
        "## Question #13\n",
        "\n",
        "As we go deeper in a neural network, which of the following choices is *false*?\n",
        "\n",
        "1. The deeper the network is, the harder it is to train.\n",
        "2. If we make a neural network deep enough, we can satisfy the universal approximation theorem where any function can be expressed by a neural network\n",
        "3. Adam optimization is always better than Momentum\n",
        "4. The deeper you go, the more high level or abstract the filters get in picking up features"
      ]
    },
    {
      "cell_type": "markdown",
      "metadata": {
        "colab_type": "text",
        "id": "qNuyxMJcOrHi"
      },
      "source": [
        "2. (It needs `1` hidden layer to approximate any function in a neural network)\n",
        "3. Curves of SGDs on valid data are smoother after n epochs but on adaptive optimizers we have larger update on parameters due to it's adaptive nature."
      ]
    },
    {
      "cell_type": "markdown",
      "metadata": {
        "id": "9_wD48leOsGf",
        "colab_type": "text"
      },
      "source": [
        "## Question #14\n",
        "\n",
        "Batch Normalization addresses the issue of covariate shift between layers in a deep neural network\n",
        "\n",
        "1. True\n",
        "2. False"
      ]
    },
    {
      "cell_type": "markdown",
      "metadata": {
        "colab_type": "text",
        "id": "vOCR1OEbOz_D"
      },
      "source": [
        "True\n",
        "\n",
        "Reason: The problem appears in the intermediate layers because the distribution of the activations is constantly changing during training. This slows down the training process because each layer must learn to adapt themselves to a new distribution in every training step. **This problem is known as internal covariate shift.**\n",
        "\n",
        "Reference: https://towardsdatascience.com/batch-normalization-theory-and-how-to-use-it-with-tensorflow-1892ca0173ad"
      ]
    },
    {
      "cell_type": "markdown",
      "metadata": {
        "id": "sldK0sDGPKgM",
        "colab_type": "text"
      },
      "source": [
        "## Question #15\n",
        "\n",
        "Why is the embedding matrix so important in collaborative filtering?"
      ]
    },
    {
      "cell_type": "markdown",
      "metadata": {
        "colab_type": "text",
        "id": "p_MMDoWsPbCL"
      },
      "source": [
        "Embedding matrix is just like another matrix but what makes them so special is that they help to find value(prediction) based upon bias and parameters. \n",
        "\n",
        "Let's say you have an embedding matrices emb_1 and em_2 and two bias matrices b1 and b2. So the predicted value from these features will be.\n",
        "\n",
        "$$pred = dot(emb_1, emb_2) + b1 + b2$$\n",
        "\n",
        "When we signup for Netflix and stream some web series we start to get a recommendation based upon previously watched series that is where embedding matrix comes in play with collaborative filtering."
      ]
    },
    {
      "cell_type": "markdown",
      "metadata": {
        "colab_type": "text",
        "id": "wRm7EY08Pbhw"
      },
      "source": [
        "# Question #16\n",
        "\n",
        "Why is the bias parameter so important in classification models?"
      ]
    },
    {
      "cell_type": "markdown",
      "metadata": {
        "colab_type": "text",
        "id": "TcKXZVmZPhya"
      },
      "source": [
        "In simple words suppose you have gone for a movie and you did not like it but the movie's rating on IMDB is more than 8, so now what bias will do for you deep neural network is it will ignore the IMDB rating and you will not see that movie in your recommended list anymore."
      ]
    },
    {
      "cell_type": "markdown",
      "metadata": {
        "colab_type": "text",
        "id": "AUj74maXPp-E"
      },
      "source": [
        "## Question #17\n",
        "\n",
        "Explain in your own words how the \"heat map\" works for convolutional neural networks and why it's useful.\n"
      ]
    },
    {
      "cell_type": "markdown",
      "metadata": {
        "colab_type": "text",
        "id": "IO2LudB7QAZw"
      },
      "source": [
        "Let's say you have a matrix called \n",
        "\n",
        "$$M = \\begin{bmatrix} \n",
        "a & b \\\\\n",
        "c & d \n",
        "\\end{bmatrix}$$ \n",
        "\n",
        "and a pixel matrix called\n",
        "\n",
        "$$P = \\begin{bmatrix} \n",
        "e & f \\\\\n",
        "g & h \n",
        "\\end{bmatrix}$$\n",
        "\n",
        "Convolution matrix will be\n",
        "\n",
        "$$CM = \\begin{bmatrix} \n",
        "a*e & b*f \\\\\n",
        "c*g & d*h \n",
        "\\end{bmatrix}$$\n",
        "\n",
        "Lastly we will add the each instance from the $CM$ matrix like this $V=a*e+b*f+c*g+d*h$\n",
        "\n",
        "The more the $V$ is positive the more it will shine or will tend to reach 255.0 value(for white color).\n",
        "\n",
        "It's useful to show the most activated paramters in pixel matrices.\n",
        "\n",
        "Suppose we have NXN grids across M channels and we wants to find out what is the value in those NXN grids, so instead of averaging across the NXN, we will average across M channels by doing this we will be having we will be having NXN single matrix and each grid of this matrix will show how much the area was activated."
      ]
    },
    {
      "cell_type": "markdown",
      "metadata": {
        "colab_type": "text",
        "id": "k7TqKVPOQHvj"
      },
      "source": [
        "# Question #18\n",
        "\n",
        "Suggest two ways to reduce the dimensionality of your data in order to better interpret what's going on overall"
      ]
    },
    {
      "cell_type": "markdown",
      "metadata": {
        "colab_type": "text",
        "id": "oaF4YrPEQ_up"
      },
      "source": [
        "1. PCA - Projecting the higher dimensional data onto a lower space.\n",
        "2. Factor Analysis - Reduces a large number of variables into a fewer number of factors.\n",
        "\n",
        "P.S. I am assuming that the questionnaire was asking for Linear Dimensionality Reduction."
      ]
    },
    {
      "cell_type": "markdown",
      "metadata": {
        "id": "DET32e-sQ39Z",
        "colab_type": "text"
      },
      "source": [
        "## Question #19\n",
        "\n",
        "Suggest two ways to reduce the influence of outliers in your data when training your model"
      ]
    },
    {
      "cell_type": "markdown",
      "metadata": {
        "colab_type": "text",
        "id": "c5KFp2zBRAHh"
      },
      "source": [
        "1. **Delete the value**: If you have only a few outliers, you may simply delete those values, so they become blank or missing values.\n",
        "\n",
        "2. **Delete the variable**: If transforming the value or variable does not eliminate the problem, you may want to simply delete the variable."
      ]
    },
    {
      "cell_type": "markdown",
      "metadata": {
        "colab_type": "text",
        "id": "3jyAdfO2RA52"
      },
      "source": [
        "## Question #20\n",
        "\n",
        "Suppose we have an image as shown below:\n",
        "\n",
        "$$\n",
        "\\begin{bmatrix}\n",
        "98 & 66 & 78 & 10 & 5 \\\\\n",
        "1 & 56 & 7 & 56 & 4 \\\\\n",
        "-8 & 6 & 76 & 3 & 51 \\\\\n",
        "10 & -16 & 3 & 49 & 13 \\\\\n",
        "4 & -6 & 23 & 17 & 38 \\\\\n",
        "\\end{bmatrix}\n",
        "$$\n",
        "\n",
        "The coordinate $(x,y)$ references the horizontal and vertical coordinate in this image, starting with the top left corner being $(0,0)$ and the bottom right corner being $(4,4)$.  Using the 3 x 3 kernel shown below:\n",
        "\n",
        "$$\n",
        "\\begin{bmatrix}\n",
        "1 & 0 & -1\\\\\n",
        "2 & 0 & -2\\\\\n",
        "1 & 0 & -1\\\\\n",
        "\\end{bmatrix}\n",
        "$$\n",
        "\n",
        "Perform a convolution calculation with the kernel being centered at $(2,3)$.  Please write the final answer in the cell below."
      ]
    },
    {
      "cell_type": "markdown",
      "metadata": {
        "colab_type": "text",
        "id": "trFrpWlATYOK"
      },
      "source": [
        "$$K(2, 3) = \\begin{bmatrix} \n",
        "6 & 76 & 3 \\\\\n",
        "-16 & 3 & 49 \\\\\n",
        "-6 & 23 & 17 \\\\\n",
        "\\end{bmatrix}$$\n",
        "\n",
        "$$CM = \\begin{bmatrix} \n",
        "1 & 0 & -1 \\\\\n",
        "2 & 0 & -2 \\\\\n",
        "1 & 0 & -1 \\\\\n",
        "\\end{bmatrix}$$\n",
        "\n",
        "$$V = K(2, 3) X CM(element wise)$$\n",
        "\n",
        "$$V = -150$$"
      ]
    },
    {
      "cell_type": "markdown",
      "metadata": {
        "id": "c8JpHpA9TbJF",
        "colab_type": "text"
      },
      "source": [
        "# Coding Question - Bag of Words Features in Text for Sentiment Classification using Linear Classifiers\n",
        "\n",
        "In this coding question, we will explore how to classify whether a sentence is positive or negative using a bag of words approach.  In this question, the input is a list of lowercased strings with no punctuation for simplicity.  This list of strings will denote our *corpus*, or the total possible words in our universe of language for this question.\n",
        "\n",
        "Our objective is given this list of sentences as well as the ground truth labels for each sentence - positive being a \"good\" or \"happy\" sentence and negative being a \"bad\" or \"angry\" sentence, we want to be able to build a classification model that can successfully do this.  We will start with Logistic Regression, but with a twist where we'll use PyTorch to do the optimal weight calculations for us.\n",
        "\n",
        "We will complete this question in three stages:\n",
        "\n",
        "1. `word_to_index`: Create a dictionary where we map a word to a unique index\n",
        "2. `build_feature_matrix`: Build our feature matrix which converts the list of sentences into a feature matrix that would be used as input into Logistic Regression\n",
        "3. `find_params`: Use PyTorch and this input matrix from (2) to find the optimal weights using Logistic Regression"
      ]
    },
    {
      "cell_type": "code",
      "metadata": {
        "id": "xBzbgLSKV6vj",
        "colab_type": "code",
        "colab": {}
      },
      "source": [
        "# Run this cell so we can import all of the packages we need for this\n",
        "# question.  You can use the following packages to complete this coding\n",
        "# question and no others\n",
        "\n",
        "import numpy as np\n",
        "import unittest\n",
        "import torch"
      ],
      "execution_count": 0,
      "outputs": []
    },
    {
      "cell_type": "markdown",
      "metadata": {
        "id": "30kDLudXV1rt",
        "colab_type": "text"
      },
      "source": [
        "## `word_to_index`\n",
        "\n",
        "Please carefully read the signature in the function below and complete it.  You can then run the `unittest` after to make sure you got the function right."
      ]
    },
    {
      "cell_type": "code",
      "metadata": {
        "id": "h5GbHLxjJAng",
        "colab_type": "code",
        "colab": {}
      },
      "source": [
        "def word_to_index(sentences):\n",
        "    \"\"\"\n",
        "    Function that computes a dictionary where the key is a unique word\n",
        "    and the value is a unique ID or index for the word.  This function\n",
        "    takes in a list of sentences and processes each word in the sentence\n",
        "    to compute this dictionary\n",
        "\n",
        "    For example, supposing if our list was:\n",
        "    [\n",
        "        \"this movie was awesome\",\n",
        "        \"i didn't like this movie\"\n",
        "    ]\n",
        "\n",
        "    The dictionary would contain:\n",
        "    {\n",
        "        \"this\": 0,\n",
        "        \"movie\": 1,\n",
        "        \"was\": 2,\n",
        "        \"awesome\": 3\n",
        "        \"i\": 4\n",
        "        \"didn't\": 5\n",
        "        \"like\": 6\n",
        "    }\n",
        "\n",
        "    Note that the order of the index is based on when we encounter the word\n",
        "    in any sentence.\n",
        "\n",
        "    Input -\n",
        "        A list of sentences as str that are space delimited.  Assume that\n",
        "        each word between spaces is complete, including punctuation.\n",
        "\n",
        "    Output -\n",
        "        A dictionary according to the specifications laid out above\n",
        "    \"\"\"\n",
        "    unique_words = []\n",
        "    for words in sentences:\n",
        "      temp = words.split(\" \")\n",
        "      for w in temp:\n",
        "        if w not in unique_words:\n",
        "          unique_words.append(w)\n",
        "    \n",
        "    # Initialization of numbers for words contains in bag\n",
        "    bag = dict()\n",
        "    for i in range(len(unique_words)):\n",
        "      bag[unique_words[i]] = i\n",
        "    \n",
        "    return bag\n",
        "\n",
        "    "
      ],
      "execution_count": 0,
      "outputs": []
    },
    {
      "cell_type": "code",
      "metadata": {
        "id": "SugWykOQWcJO",
        "colab_type": "code",
        "outputId": "2f65be4c-59b3-4ee5-8cce-e40d923ed98f",
        "colab": {
          "base_uri": "https://localhost:8080/",
          "height": 108
        }
      },
      "source": [
        "class TestSentiment(unittest.TestCase):\n",
        "    def test_word_to_index(self):\n",
        "        sentences = [\n",
        "            \"this movie was awesome\",\n",
        "            \"i didn't like this movie\"\n",
        "        ]\n",
        "\n",
        "        out = word_to_index(sentences)\n",
        "        self.assertTrue(len(out) == 7)\n",
        "        self.assertEqual(out[\"this\"], 0)\n",
        "        self.assertEqual(out[\"movie\"], 1)\n",
        "        self.assertEqual(out[\"was\"], 2)\n",
        "        self.assertEqual(out[\"awesome\"], 3)\n",
        "        self.assertEqual(out[\"i\"], 4)\n",
        "        self.assertEqual(out[\"didn't\"], 5)\n",
        "        self.assertEqual(out[\"like\"], 6)\n",
        "\n",
        "if __name__ == '__main__':\n",
        "    unittest.main(argv=['first-arg-is-ignored'], exit=False)"
      ],
      "execution_count": 0,
      "outputs": [
        {
          "output_type": "stream",
          "text": [
            ".\n",
            "----------------------------------------------------------------------\n",
            "Ran 1 test in 0.001s\n",
            "\n",
            "OK\n"
          ],
          "name": "stderr"
        }
      ]
    },
    {
      "cell_type": "markdown",
      "metadata": {
        "id": "W6S7-oYnXSDw",
        "colab_type": "text"
      },
      "source": [
        "## `build_feature_matrix`\n",
        "\n",
        "Please carefully read the signature in the function below and complete it. You can then run the unittest after to make sure you got the function right."
      ]
    },
    {
      "cell_type": "code",
      "metadata": {
        "id": "rg6vAoyNW697",
        "colab_type": "code",
        "colab": {}
      },
      "source": [
        "from collections import Counter \n",
        "np.set_printoptions(precision=2)\n",
        "\n",
        "\n",
        "def build_feature_matrix(sentences):\n",
        "    \"\"\"\n",
        "    Function that computes a feature matrix of size M x N where M is the\n",
        "    number of sentences and N is the number of unique words in our corpus.\n",
        "    In particular, each row is the corresponding feature representation of\n",
        "    the sentence and each element (i, j) of this matrix calculates the\n",
        "    NORMALIZED frequency of occurrence of the word j in sentence i by\n",
        "    dividing each row by its L2 norm.\n",
        "\n",
        "    For example, if our sentence corpus only consisted of:\n",
        "\n",
        "    [\n",
        "        \"hello hello there\",\n",
        "        \"i'm i'm fine fine fine\"\n",
        "    ]\n",
        "\n",
        "    The matrix would look like:\n",
        "\n",
        "    hello there i'm fine\n",
        "    [  2    1    0   0]\n",
        "    [  0    0    2   3]\n",
        "\n",
        "    The L2 norm of the first and second row are sqrt(5) and sqrt(13)\n",
        "    respectively, and so the expected feature matrix would be:\n",
        "\n",
        "        hello         there     i'm         fine\n",
        "    [  2/sqrt(5)    1/sqrt(5)    0            0      ]\n",
        "    [     0             0     2/sqrt(13)   3/sqrt(13)]\n",
        "\n",
        "    Each column is referenced by the index described by the word from the\n",
        "    dictionary produced by word_to_index\n",
        "\n",
        "    Input -\n",
        "        A list of sentences as str that are space delimited.  Assume that\n",
        "        each word between spaces is complete.\n",
        "    Output -\n",
        "        A tuple that contains the feature matrix as a floating-point numpy\n",
        "        array and the corresponding dictionary mapping the word to an index.\n",
        "    \"\"\"\n",
        "    wtoi = word_to_index(sentences)\n",
        "\n",
        "    matrix = []\n",
        "    for w in sentences:\n",
        "      # Words that exist in dict according to their occurence\n",
        "      temp_dict = Counter(w.split(\" \"))\n",
        "      temp = []\n",
        "      for w_ in wtoi:\n",
        "        temp.append(temp_dict[w_])\n",
        "      matrix.append(temp)\n",
        "    \n",
        "    ## L2 normalization\n",
        "    for i in range(len(matrix)):\n",
        "      total = sum(i**2 for i in matrix[i])\n",
        "      for j in range(len(matrix[i])):\n",
        "        matrix[i][j] = matrix[i][j]/np.sqrt(total)\n",
        "\n",
        "    matrix = [np.array(matrix), wtoi]\n",
        "    return tuple(matrix)\n",
        "    "
      ],
      "execution_count": 0,
      "outputs": []
    },
    {
      "cell_type": "code",
      "metadata": {
        "id": "0aYS75V8YDi0",
        "colab_type": "code",
        "outputId": "6f63af2f-b57f-4fb9-e0e2-5b6040178be4",
        "colab": {
          "base_uri": "https://localhost:8080/",
          "height": 108
        }
      },
      "source": [
        "class TestSentiment(unittest.TestCase):\n",
        "    def test_build_features(self):\n",
        "        sentences = [\n",
        "            \"this movie was awesome\",\n",
        "            \"i didn't like this movie\"\n",
        "        ]\n",
        "\n",
        "        out = build_feature_matrix(sentences)\n",
        "        self.assertTrue(type(out) == tuple)\n",
        "        self.assertTrue(len(out) == 2)\n",
        "        features = out[0]\n",
        "        self.assertTrue(type(features) == np.ndarray)\n",
        "        self.assertTrue(features.dtype == np.float)\n",
        "        self.assertTrue(features.shape == (2, 7))\n",
        "        compare_to = np.zeros((2, 7))\n",
        "        compare_to[0,:4] = 0.5\n",
        "        compare_to[1,4:] = 1.0 / np.sqrt(5)\n",
        "        compare_to[1,:2] = 1.0 / np.sqrt(5)\n",
        "        np.testing.assert_allclose(features, compare_to)\n",
        "\n",
        "if __name__ == '__main__':\n",
        "    unittest.main(argv=['first-arg-is-ignored'], exit=False)"
      ],
      "execution_count": 0,
      "outputs": [
        {
          "output_type": "stream",
          "text": [
            ".\n",
            "----------------------------------------------------------------------\n",
            "Ran 1 test in 0.004s\n",
            "\n",
            "OK\n"
          ],
          "name": "stderr"
        }
      ]
    },
    {
      "cell_type": "markdown",
      "metadata": {
        "id": "k25jQjycYoAF",
        "colab_type": "text"
      },
      "source": [
        "# `find_params`\n",
        "\n",
        "`find_params` will ultimately train your model using Stochastic Gradient Descent.  Before we do this, we need to define some moving pieces before ultimately doing this."
      ]
    },
    {
      "cell_type": "markdown",
      "metadata": {
        "id": "t9cFZYI_4u3J",
        "colab_type": "text"
      },
      "source": [
        "### Step #1\n",
        "First define a class called `Logistic` that inherits from the `torch.nn.Module` class where the constructor consists of a standard `torch.nn.Linear` layer combined with a `torch.nn.Sigmoid` layer wrapped around it.  Logistic Regression can be thought of as a single layer network with no hidden layers.  You will need to design the constructor so that it creates a linear layer with the total number of neurons being the total number of number of words in the dictionary.  You'll need to provide an input into the constructor that specifies the total number of neurons.  It will also be a good idea to add a bias unit to the linear layer for a high degree of accuracy."
      ]
    },
    {
      "cell_type": "code",
      "metadata": {
        "id": "CDOVM5le5V9h",
        "colab_type": "code",
        "colab": {}
      },
      "source": [
        "class Logistic(torch.nn.Module):\n",
        "    def __init__(self, n):\n",
        "        # n is the total number of input neurons for the Linear layer\n",
        "        super().__init__()\n",
        "        self.lin = torch.nn.Linear(n, 1, bias=True)\n",
        "        self.out = torch.nn.Sigmoid()\n",
        "\n",
        "    def forward(self, xb):\n",
        "        x = self.lin(xb)\n",
        "        y = self.out(x)\n",
        "        return y"
      ],
      "execution_count": 0,
      "outputs": []
    },
    {
      "cell_type": "markdown",
      "metadata": {
        "id": "tmbGzKaU5lYw",
        "colab_type": "text"
      },
      "source": [
        "### Step #2\n",
        "Define the appropriate loss function and store it in a variable called `loss_func` that is expected of logistic regression.  Take note that this is a *binary* classifier, and because this is classification, the cross entropy loss function is the ideal one."
      ]
    },
    {
      "cell_type": "code",
      "metadata": {
        "id": "xeEdm-pIatfA",
        "colab_type": "code",
        "colab": {}
      },
      "source": [
        "loss_func = torch.nn.BCEWithLogitsLoss()"
      ],
      "execution_count": 0,
      "outputs": []
    },
    {
      "cell_type": "markdown",
      "metadata": {
        "id": "ZQG14BC358EY",
        "colab_type": "text"
      },
      "source": [
        "### Step #3\n",
        "\n",
        "Now finally complete the behaviour for `find_params` shown below and read the docstring carefully.  Make sure you use the `loss_func` and `Logistic` class you just made to do this work.\n",
        "\n",
        "*Hints*:\n",
        "\n",
        "* Be careful when handling NumPy arrays as they require being converted to Torch tensors before proceeding\n",
        "* Because the weights are randomly initialized each time, don't pay attention to the actual magnitude of the weights.  Focus on classifying the actual sentences correctly.\n",
        "* Make sure you use the variable and class you created in Steps #1 and #2 here in your final solution.\n",
        "* Have a look at Lesson #5 to get a good overview of how to write this function"
      ]
    },
    {
      "cell_type": "code",
      "metadata": {
        "id": "9mvWmXF0YIQy",
        "colab_type": "code",
        "colab": {}
      },
      "source": [
        "def find_params(sentences, y, num_iter=1000, learning_rate=0.1):\n",
        "    \"\"\"\n",
        "    Finds the optimal weights of the inference model for classifying\n",
        "    between positive and negative sentences using Logistic Regression.\n",
        "\n",
        "    Inputs -\n",
        "        sentences - A list sentences as str that are space delimited.\n",
        "        Assume that each word between spaces is complete with no punctuation.\n",
        "        This list is N elements long corresponding to the number of sentences.\n",
        "        y - A M x 1 numpy array of labels where 0 is a negative sentiment\n",
        "        and 1 is a positive sentiment - each index into this array corresponds\n",
        "        to the sentence it describes.\n",
        "        num_iter - The number of iterations for logistic regression to be\n",
        "        learned by gradient descent.\n",
        "        learning_rate - The learning rate for gradient descent\n",
        "    Outputs -\n",
        "        A tuple that contains the trained PyTorch model and a NumPy\n",
        "        array that records the losses of your model per iteration\n",
        "    \"\"\"\n",
        "    n = len(word_to_index(sentences).keys())\n",
        "    y = torch.FloatTensor(y).reshape(-1, 1)\n",
        "    model = Logistic(n)\n",
        "    features = torch.FloatTensor(build_feature_matrix(sentences)[0])\n",
        "    losses = []\n",
        "    optimizer = torch.optim.SGD(model.parameters(), lr=learning_rate)\n",
        "    model.train()\n",
        "    \n",
        "    for i in range(num_iter):\n",
        "      prediction = model(features)\n",
        "      # computing the difference\n",
        "      loss = loss_func(prediction, y)\n",
        "      # Computing gradients\n",
        "      loss.backward()\n",
        "      #updating the weights\n",
        "      optimizer.step()\n",
        "      optimizer.zero_grad()\n",
        "      # storing the loss values\n",
        "      losses.append(loss.item())\n",
        "\n",
        "    return tuple([model, losses])\n"
      ],
      "execution_count": 0,
      "outputs": []
    },
    {
      "cell_type": "markdown",
      "metadata": {
        "id": "omwBB9WX7TNv",
        "colab_type": "text"
      },
      "source": [
        "## Step #4\n",
        "\n",
        "Defined below are some sentences as well as the corresponding positive or negative sentiment that accompanies each sentence.\n",
        "\n",
        "Play around with the learning rate and total number of iterations until you feel confident that your model has learned the system properly.  We won't concern ourselves with training and validation split.  Just get your model to classify all of the sentences correctly."
      ]
    },
    {
      "cell_type": "code",
      "metadata": {
        "id": "fzQ-6O4EaGN8",
        "colab_type": "code",
        "colab": {}
      },
      "source": [
        "sentences = [\"jaris is a fraud\",\n",
        "             \"i love that jaris is being exposed\",\n",
        "             \"jaris is a piece of crap\",\n",
        "             \"siraj plagiarizes and gets away with it\",\n",
        "             \"he needs to stay off twitter\",\n",
        "             \"i am so happy that siraj is getting the karma he deserves\",\n",
        "             \"i love ai\",\n",
        "             \"i love pytorch\"\n",
        "             \"jeremy howard is an amazing man\",\n",
        "             \"rachel thomas is my idol\",\n",
        "             \"siraj is a script kiddie\"]\n",
        "labels = [[0, 1, 0, 0, 0, 1, 1, 1, 1, 0]]\n",
        "labels = np.array(labels).astype(np.bool).T"
      ],
      "execution_count": 0,
      "outputs": []
    },
    {
      "cell_type": "code",
      "metadata": {
        "id": "9zjP2ReAaoWM",
        "colab_type": "code",
        "colab": {}
      },
      "source": [
        "# Play with the learning here\n",
        "model, losses = find_params(sentences, labels)"
      ],
      "execution_count": 0,
      "outputs": []
    },
    {
      "cell_type": "markdown",
      "metadata": {
        "id": "uxhJf7M48c7l",
        "colab_type": "text"
      },
      "source": [
        "Here's some code that plots the losses over the iterations.  Run this cell as you're iterating with the above."
      ]
    },
    {
      "cell_type": "code",
      "metadata": {
        "id": "dQ8NK8zZ8bjV",
        "colab_type": "code",
        "outputId": "34a0b036-2263-4dbc-f055-d30a65313936",
        "colab": {
          "base_uri": "https://localhost:8080/",
          "height": 295
        }
      },
      "source": [
        "import matplotlib.pyplot as plt\n",
        "plt.plot(np.arange(len(losses)), losses)\n",
        "plt.grid()\n",
        "plt.xlabel('Iteration #')\n",
        "plt.ylabel('Loss function')\n",
        "_ = plt.title('Loss function vs. # of iterations')"
      ],
      "execution_count": 0,
      "outputs": [
        {
          "output_type": "display_data",
          "data": {
            "image/png": "[encoded data removed]",
            "text/plain": [
              "<Figure size 432x288 with 1 Axes>"
            ]
          },
          "metadata": {
            "tags": []
          }
        }
      ]
    },
    {
      "cell_type": "markdown",
      "metadata": {
        "id": "LN7vJVc880mb",
        "colab_type": "text"
      },
      "source": [
        "Using the returned model above, rerun the predictions on the input sentences and display how they were classified.  Make sure you build the feature matrix and convert to a Torch tensor before doing so.  Compare these to your ground truth labels.  Did your model successfully classify the sentences?\n",
        "\n",
        "Try putting in different sentences that were not part of the training and see how it performs.  What can you do to improve performance?"
      ]
    },
    {
      "cell_type": "code",
      "metadata": {
        "id": "85F8Plxa5vXr",
        "colab_type": "code",
        "outputId": "30c72a30-add2-4e93-a6de-78dd1e62772a",
        "colab": {
          "base_uri": "https://localhost:8080/",
          "height": 90
        }
      },
      "source": [
        "sentences = [\"I like computer vision\",\n",
        "             \"I'm iron man.\",\n",
        "             \"Siraj is a scum.\",\n",
        "             \"I am a terrible questionnaire.\"]\n",
        "\n",
        "labels = [[1, 1, 0, 0]]\n",
        "labels = np.array(labels).astype(np.bool).T\n",
        "\n",
        "model, losses = find_params(sentences, labels)\n",
        "\n",
        "mat = torch.FloatTensor(build_feature_matrix(sentences)[0])\n",
        "model(mat)"
      ],
      "execution_count": 0,
      "outputs": [
        {
          "output_type": "execute_result",
          "data": {
            "text/plain": [
              "tensor([[0.7923],\n",
              "        [0.8281],\n",
              "        [0.0825],\n",
              "        [0.1001]], grad_fn=<SigmoidBackward>)"
            ]
          },
          "metadata": {
            "tags": []
          },
          "execution_count": 13
        }
      ]
    },
    {
      "cell_type": "markdown",
      "metadata": {
        "id": "NeAIxnze-sCN",
        "colab_type": "text"
      },
      "source": [
        "## Improving the model"
      ]
    },
    {
      "cell_type": "code",
      "metadata": {
        "id": "YC0pGlhy6P1W",
        "colab_type": "code",
        "outputId": "08f1f8fa-3acc-49ab-96b9-03b24223ec73",
        "colab": {
          "base_uri": "https://localhost:8080/",
          "height": 295
        }
      },
      "source": [
        "def find_params_with_adam(sentences, y, num_iter=1000, learning_rate=0.1):\n",
        "    \"\"\"\n",
        "    Finds the optimal weights of the inference model for classifying\n",
        "    between positive and negative sentences using Logistic Regression.\n",
        "\n",
        "    Inputs -\n",
        "        sentences - A list sentences as str that are space delimited.\n",
        "        Assume that each word between spaces is complete with no punctuation.\n",
        "        This list is N elements long corresponding to the number of sentences.\n",
        "        y - A M x 1 numpy array of labels where 0 is a negative sentiment\n",
        "        and 1 is a positive sentiment - each index into this array corresponds\n",
        "        to the sentence it describes.\n",
        "        num_iter - The number of iterations for logistic regression to be\n",
        "        learned by gradient descent.\n",
        "        learning_rate - The learning rate for gradient descent\n",
        "    Outputs -\n",
        "        A tuple that contains the trained PyTorch model and a NumPy\n",
        "        array that records the losses of your model per iteration\n",
        "    \"\"\"\n",
        "    n = len(word_to_index(sentences).keys())\n",
        "    y = torch.FloatTensor(y).reshape(-1, 1)\n",
        "    model = Logistic(n)\n",
        "    features = torch.FloatTensor(build_feature_matrix(sentences)[0])\n",
        "    losses = []\n",
        "    optimizer = torch.optim.Adam(model.parameters(), lr=learning_rate)\n",
        "    model.train()\n",
        "    \n",
        "    for i in range(num_iter):\n",
        "      prediction = model(features)\n",
        "      # computing the difference\n",
        "      loss = loss_func(prediction, y)\n",
        "      # Computing gradients\n",
        "      loss.backward()\n",
        "      #updating the weights\n",
        "      optimizer.step()\n",
        "      optimizer.zero_grad()\n",
        "      # storing the loss values\n",
        "      losses.append(loss.item())\n",
        "\n",
        "    return tuple([model, losses])\n",
        "\n",
        "sentences = [\"jaris is a fraud\",\n",
        "             \"i love that jaris is being exposed\",\n",
        "             \"jaris is a piece of crap\",\n",
        "             \"siraj plagiarizes and gets away with it\",\n",
        "             \"he needs to stay off twitter\",\n",
        "             \"i am so happy that siraj is getting the karma he deserves\",\n",
        "             \"i love ai\",\n",
        "             \"i love pytorch\"\n",
        "             \"jeremy howard is an amazing man\",\n",
        "             \"rachel thomas is my idol\",\n",
        "             \"siraj is a script kiddie\"]\n",
        "labels = [[0, 1, 0, 0, 0, 1, 1, 1, 1, 0]]\n",
        "labels = np.array(labels).astype(np.bool).T\n",
        "\n",
        "model, losses = find_params_with_adam(sentences, labels)\n",
        "\n",
        "\n",
        "import matplotlib.pyplot as plt\n",
        "plt.plot(np.arange(len(losses)), losses)\n",
        "plt.grid()\n",
        "plt.xlabel('Iteration #')\n",
        "plt.ylabel('Loss function')\n",
        "_ = plt.title('Loss function vs. # of iterations')"
      ],
      "execution_count": 0,
      "outputs": [
        {
          "output_type": "display_data",
          "data": {
            "image/png": "[encoded data removed]",
            "text/plain": [
              "<Figure size 432x288 with 1 Axes>"
            ]
          },
          "metadata": {
            "tags": []
          }
        }
      ]
    },
    {
      "cell_type": "markdown",
      "metadata": {
        "id": "14cWoY79tyiQ",
        "colab_type": "text"
      },
      "source": [
        "We can also use \n",
        "\n",
        "\n",
        "\n",
        "1.   Embeddings\n",
        "2.   Dropout\n",
        "3.   Adding more data\n",
        "\n",
        "for improving the quality of our model.\n",
        "\n"
      ]
    },
    {
      "cell_type": "markdown",
      "metadata": {
        "id": "F8CDwZPvwFd1",
        "colab_type": "text"
      },
      "source": [
        "## The End"
      ]
    },
    {
      "cell_type": "code",
      "metadata": {
        "id": "-JNfaWalwJmP",
        "colab_type": "code",
        "colab": {}
      },
      "source": [
        ""
      ],
      "execution_count": 0,
      "outputs": []
    }
  ]
}
