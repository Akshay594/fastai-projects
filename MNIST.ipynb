{
  "nbformat": 4,
  "nbformat_minor": 0,
  "metadata": {
    "colab": {
      "name": "MNIST",
      "version": "0.3.2",
      "provenance": [],
      "collapsed_sections": []
    },
    "kernelspec": {
      "name": "python3",
      "display_name": "Python 3"
    },
    "accelerator": "GPU"
  },
  "cells": [
    {
      "cell_type": "code",
      "metadata": {
        "id": "xOUZl24_n2FO",
        "colab_type": "code",
        "colab": {}
      },
      "source": [
        "%reload_ext autoreload\n",
        "%autoreload 2\n",
        "%matplotlib inline"
      ],
      "execution_count": 0,
      "outputs": []
    },
    {
      "cell_type": "code",
      "metadata": {
        "id": "PxUbUzsoafDr",
        "colab_type": "code",
        "colab": {}
      },
      "source": [
        "# Libraries\n",
        "from fastai.vision import *\n",
        "from fastai.metrics import *\n",
        "import matplotlib.pyplot as plt"
      ],
      "execution_count": 0,
      "outputs": []
    },
    {
      "cell_type": "markdown",
      "metadata": {
        "id": "3Rejn0_OcHbJ",
        "colab_type": "text"
      },
      "source": [
        "## Creating the data"
      ]
    },
    {
      "cell_type": "code",
      "metadata": {
        "id": "Z6wxrVx0gx6o",
        "colab_type": "code",
        "colab": {
          "base_uri": "https://localhost:8080/",
          "height": 34
        },
        "outputId": "d69f43d2-7e3e-4d3b-c2e7-8f98a9b96408"
      },
      "source": [
        "path = untar_data(URLs.MNIST); path"
      ],
      "execution_count": 3,
      "outputs": [
        {
          "output_type": "execute_result",
          "data": {
            "text/plain": [
              "PosixPath('/root/.fastai/data/mnist_png')"
            ]
          },
          "metadata": {
            "tags": []
          },
          "execution_count": 3
        }
      ]
    },
    {
      "cell_type": "code",
      "metadata": {
        "id": "fDIt6VWAhy1m",
        "colab_type": "code",
        "colab": {}
      },
      "source": [
        "data =ImageDataBunch.from_folder(path, train='training', valid='testing', size=32)"
      ],
      "execution_count": 0,
      "outputs": []
    },
    {
      "cell_type": "code",
      "metadata": {
        "id": "9fxRHnJuiBaH",
        "colab_type": "code",
        "colab": {
          "base_uri": "https://localhost:8080/",
          "height": 369
        },
        "outputId": "ceccdb5c-bf61-4def-ed61-aefcdcfbf29b"
      },
      "source": [
        "data.show_batch(row=3, figsize=(5, 5))"
      ],
      "execution_count": 5,
      "outputs": [
        {
          "output_type": "display_data",
          "data": {
            "image/png": "[encoded data removed]",
            "text/plain": [
              "<Figure size 360x360 with 25 Axes>"
            ]
          },
          "metadata": {
            "tags": []
          }
        }
      ]
    },
    {
      "cell_type": "code",
      "metadata": {
        "id": "Er2buqwciERa",
        "colab_type": "code",
        "colab": {
          "base_uri": "https://localhost:8080/",
          "height": 34
        },
        "outputId": "83c256a1-e674-4d26-c8f1-2c47d0de28b6"
      },
      "source": [
        "data.classes"
      ],
      "execution_count": 6,
      "outputs": [
        {
          "output_type": "execute_result",
          "data": {
            "text/plain": [
              "['0', '1', '2', '3', '4', '5', '6', '7', '8', '9']"
            ]
          },
          "metadata": {
            "tags": []
          },
          "execution_count": 6
        }
      ]
    },
    {
      "cell_type": "markdown",
      "metadata": {
        "id": "SNSukydqlYpt",
        "colab_type": "text"
      },
      "source": [
        "## Training the Resnet34"
      ]
    },
    {
      "cell_type": "code",
      "metadata": {
        "id": "N3H72vvLivmL",
        "colab_type": "code",
        "colab": {
          "base_uri": "https://localhost:8080/",
          "height": 51
        },
        "outputId": "da5fe54b-393a-45d5-b4bf-99be2fbdb0d2"
      },
      "source": [
        "model_34 = cnn_learner(data, models.resnet34, metrics=error_rate)"
      ],
      "execution_count": 7,
      "outputs": [
        {
          "output_type": "stream",
          "text": [
            "Downloading: \"https://download.pytorch.org/models/resnet34-333f7ec4.pth\" to /root/.cache/torch/checkpoints/resnet34-333f7ec4.pth\n",
            "100%|██████████| 87306240/87306240 [00:00<00:00, 91644600.30it/s]\n"
          ],
          "name": "stderr"
        }
      ]
    },
    {
      "cell_type": "code",
      "metadata": {
        "id": "7qoZ7n96mrgd",
        "colab_type": "code",
        "colab": {
          "base_uri": "https://localhost:8080/",
          "height": 142
        },
        "outputId": "0b15805e-f248-4e8b-fade-2986f71f8d5e"
      },
      "source": [
        "model_34.fit_one_cycle(3)"
      ],
      "execution_count": 8,
      "outputs": [
        {
          "output_type": "display_data",
          "data": {
            "text/html": [
              "<table border=\"1\" class=\"dataframe\">\n",
              "  <thead>\n",
              "    <tr style=\"text-align: left;\">\n",
              "      <th>epoch</th>\n",
              "      <th>train_loss</th>\n",
              "      <th>valid_loss</th>\n",
              "      <th>error_rate</th>\n",
              "      <th>time</th>\n",
              "    </tr>\n",
              "  </thead>\n",
              "  <tbody>\n",
              "    <tr>\n",
              "      <td>0</td>\n",
              "      <td>0.410812</td>\n",
              "      <td>0.241741</td>\n",
              "      <td>0.077900</td>\n",
              "      <td>01:29</td>\n",
              "    </tr>\n",
              "    <tr>\n",
              "      <td>1</td>\n",
              "      <td>0.175281</td>\n",
              "      <td>0.106919</td>\n",
              "      <td>0.033300</td>\n",
              "      <td>01:26</td>\n",
              "    </tr>\n",
              "    <tr>\n",
              "      <td>2</td>\n",
              "      <td>0.146788</td>\n",
              "      <td>0.093076</td>\n",
              "      <td>0.027800</td>\n",
              "      <td>01:25</td>\n",
              "    </tr>\n",
              "  </tbody>\n",
              "</table>"
            ],
            "text/plain": [
              "<IPython.core.display.HTML object>"
            ]
          },
          "metadata": {
            "tags": []
          }
        }
      ]
    },
    {
      "cell_type": "code",
      "metadata": {
        "id": "Ecr_LEhum1rk",
        "colab_type": "code",
        "colab": {}
      },
      "source": [
        "model_34.save('stage-1-resnet34')"
      ],
      "execution_count": 0,
      "outputs": []
    },
    {
      "cell_type": "markdown",
      "metadata": {
        "id": "TpRCShYsp1KE",
        "colab_type": "text"
      },
      "source": [
        "## Interpretation from classifier"
      ]
    },
    {
      "cell_type": "code",
      "metadata": {
        "id": "IkTRmGIRpxyf",
        "colab_type": "code",
        "colab": {}
      },
      "source": [
        "intrp = ClassificationInterpretation.from_learner(model_34)"
      ],
      "execution_count": 0,
      "outputs": []
    },
    {
      "cell_type": "code",
      "metadata": {
        "id": "eqR5c-ntqElY",
        "colab_type": "code",
        "colab": {
          "base_uri": "https://localhost:8080/",
          "height": 1000
        },
        "outputId": "2098a72c-ff03-445c-c4c3-94b80cd4747c"
      },
      "source": [
        "intrp.plot_confusion_matrix(figsize=(10, 10), dpi=60)\n",
        "intrp.plot_top_losses(6, figsize=(10, 10))"
      ],
      "execution_count": 11,
      "outputs": [
        {
          "output_type": "display_data",
          "data": {
            "image/png": "[encoded data removed]",
            "text/plain": [
              "<Figure size 600x600 with 1 Axes>"
            ]
          },
          "metadata": {
            "tags": []
          }
        },
        {
          "output_type": "display_data",
          "data": {
            "image/png": "[encoded data removed]",
            "text/plain": [
              "<Figure size 720x720 with 6 Axes>"
            ]
          },
          "metadata": {
            "tags": []
          }
        }
      ]
    },
    {
      "cell_type": "code",
      "metadata": {
        "id": "HV-OXmO0qM3I",
        "colab_type": "code",
        "colab": {
          "base_uri": "https://localhost:8080/",
          "height": 799
        },
        "outputId": "e61d8632-632f-43b0-e6b7-998df435120b"
      },
      "source": [
        "intrp.most_confused(min_val=2)"
      ],
      "execution_count": 12,
      "outputs": [
        {
          "output_type": "execute_result",
          "data": {
            "text/plain": [
              "[('5', '3', 19),\n",
              " ('9', '8', 15),\n",
              " ('3', '5', 14),\n",
              " ('9', '7', 14),\n",
              " ('7', '9', 12),\n",
              " ('9', '4', 11),\n",
              " ('7', '4', 10),\n",
              " ('8', '2', 9),\n",
              " ('4', '9', 8),\n",
              " ('8', '9', 8),\n",
              " ('2', '5', 7),\n",
              " ('2', '3', 6),\n",
              " ('2', '7', 6),\n",
              " ('2', '8', 6),\n",
              " ('3', '2', 6),\n",
              " ('4', '6', 6),\n",
              " ('6', '0', 6),\n",
              " ('7', '2', 6),\n",
              " ('8', '5', 6),\n",
              " ('9', '5', 6),\n",
              " ('6', '5', 5),\n",
              " ('8', '6', 5),\n",
              " ('2', '9', 4),\n",
              " ('3', '8', 4),\n",
              " ('5', '2', 4),\n",
              " ('6', '4', 4),\n",
              " ('0', '2', 3),\n",
              " ('0', '6', 3),\n",
              " ('1', '2', 3),\n",
              " ('1', '4', 3),\n",
              " ('2', '4', 3),\n",
              " ('2', '6', 3),\n",
              " ('6', '8', 3),\n",
              " ('7', '8', 3),\n",
              " ('8', '3', 3),\n",
              " ('9', '2', 3),\n",
              " ('9', '3', 3),\n",
              " ('0', '7', 2),\n",
              " ('2', '0', 2),\n",
              " ('2', '1', 2),\n",
              " ('4', '2', 2),\n",
              " ('4', '8', 2),\n",
              " ('5', '8', 2),\n",
              " ('8', '0', 2),\n",
              " ('9', '0', 2),\n",
              " ('9', '6', 2)]"
            ]
          },
          "metadata": {
            "tags": []
          },
          "execution_count": 12
        }
      ]
    },
    {
      "cell_type": "markdown",
      "metadata": {
        "id": "-xbjdSC-tHsD",
        "colab_type": "text"
      },
      "source": [
        "## Fine tuning"
      ]
    },
    {
      "cell_type": "code",
      "metadata": {
        "id": "r440jKKzCQpa",
        "colab_type": "code",
        "colab": {
          "base_uri": "https://localhost:8080/",
          "height": 111
        },
        "outputId": "3e01e0f2-59e5-4db3-9ae5-5727485882b4"
      },
      "source": [
        "model_34.unfreeze()\n",
        "\n",
        "model_34.fit_one_cycle(2)"
      ],
      "execution_count": 13,
      "outputs": [
        {
          "output_type": "display_data",
          "data": {
            "text/html": [
              "<table border=\"1\" class=\"dataframe\">\n",
              "  <thead>\n",
              "    <tr style=\"text-align: left;\">\n",
              "      <th>epoch</th>\n",
              "      <th>train_loss</th>\n",
              "      <th>valid_loss</th>\n",
              "      <th>error_rate</th>\n",
              "      <th>time</th>\n",
              "    </tr>\n",
              "  </thead>\n",
              "  <tbody>\n",
              "    <tr>\n",
              "      <td>0</td>\n",
              "      <td>0.091474</td>\n",
              "      <td>0.043845</td>\n",
              "      <td>0.012500</td>\n",
              "      <td>01:37</td>\n",
              "    </tr>\n",
              "    <tr>\n",
              "      <td>1</td>\n",
              "      <td>0.022861</td>\n",
              "      <td>0.014117</td>\n",
              "      <td>0.004300</td>\n",
              "      <td>01:37</td>\n",
              "    </tr>\n",
              "  </tbody>\n",
              "</table>"
            ],
            "text/plain": [
              "<IPython.core.display.HTML object>"
            ]
          },
          "metadata": {
            "tags": []
          }
        }
      ]
    },
    {
      "cell_type": "code",
      "metadata": {
        "id": "JFWxDp57tQVS",
        "colab_type": "code",
        "colab": {
          "base_uri": "https://localhost:8080/",
          "height": 34
        },
        "outputId": "7e918c98-104b-4f30-eace-e5ebd1af09f4"
      },
      "source": [
        "model_34.load('stage-1-resnet34')\n",
        "\n",
        "model_34.lr_find()"
      ],
      "execution_count": 17,
      "outputs": [
        {
          "output_type": "display_data",
          "data": {
            "text/html": [
              ""
            ],
            "text/plain": [
              "<IPython.core.display.HTML object>"
            ]
          },
          "metadata": {
            "tags": []
          }
        },
        {
          "output_type": "stream",
          "text": [
            "LR Finder is complete, type {learner_name}.recorder.plot() to see the graph.\n"
          ],
          "name": "stdout"
        }
      ]
    },
    {
      "cell_type": "code",
      "metadata": {
        "id": "OzGOmp2l5pg3",
        "colab_type": "code",
        "colab": {
          "base_uri": "https://localhost:8080/",
          "height": 283
        },
        "outputId": "10b160d6-69f0-48a6-eaa3-17da56cd6254"
      },
      "source": [
        "model_34.recorder.plot()"
      ],
      "execution_count": 18,
      "outputs": [
        {
          "output_type": "display_data",
          "data": {
            "image/png": "[encoded data removed]",
            "text/plain": [
              "<Figure size 432x288 with 1 Axes>"
            ]
          },
          "metadata": {
            "tags": []
          }
        }
      ]
    },
    {
      "cell_type": "code",
      "metadata": {
        "id": "z7EMEWsVAk8U",
        "colab_type": "code",
        "colab": {
          "base_uri": "https://localhost:8080/",
          "height": 142
        },
        "outputId": "4858e72a-c8b3-4032-f976-10f06a1fe7fe"
      },
      "source": [
        "model_34.fit_one_cycle(3, max_lr=slice(1e-5, 1e-4))"
      ],
      "execution_count": 19,
      "outputs": [
        {
          "output_type": "display_data",
          "data": {
            "text/html": [
              "<table border=\"1\" class=\"dataframe\">\n",
              "  <thead>\n",
              "    <tr style=\"text-align: left;\">\n",
              "      <th>epoch</th>\n",
              "      <th>train_loss</th>\n",
              "      <th>valid_loss</th>\n",
              "      <th>error_rate</th>\n",
              "      <th>time</th>\n",
              "    </tr>\n",
              "  </thead>\n",
              "  <tbody>\n",
              "    <tr>\n",
              "      <td>0</td>\n",
              "      <td>0.081101</td>\n",
              "      <td>0.050899</td>\n",
              "      <td>0.017100</td>\n",
              "      <td>01:37</td>\n",
              "    </tr>\n",
              "    <tr>\n",
              "      <td>1</td>\n",
              "      <td>0.051777</td>\n",
              "      <td>0.031235</td>\n",
              "      <td>0.009900</td>\n",
              "      <td>01:37</td>\n",
              "    </tr>\n",
              "    <tr>\n",
              "      <td>2</td>\n",
              "      <td>0.024942</td>\n",
              "      <td>0.027369</td>\n",
              "      <td>0.008300</td>\n",
              "      <td>01:38</td>\n",
              "    </tr>\n",
              "  </tbody>\n",
              "</table>"
            ],
            "text/plain": [
              "<IPython.core.display.HTML object>"
            ]
          },
          "metadata": {
            "tags": []
          }
        }
      ]
    },
    {
      "cell_type": "markdown",
      "metadata": {
        "id": "l1TFTt179nRT",
        "colab_type": "text"
      },
      "source": [
        "Cool, now we are getting the error rate 0.08%, which is quite good considering the model that we used aleardy pretrained model, so it could overfit the data. \n",
        " \n",
        "Let's check."
      ]
    }
  ]
}